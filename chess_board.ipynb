{
 "cells": [
  {
   "cell_type": "code",
   "execution_count": null,
   "metadata": {},
   "outputs": [],
   "source": []
  },
  {
   "cell_type": "code",
   "execution_count": 82,
   "metadata": {},
   "outputs": [
    {
     "data": {
      "image/png": "[encoded data removed]",
      "text/plain": [
       "<Figure size 432x288 with 1 Axes>"
      ]
     },
     "metadata": {
      "needs_background": "light"
     },
     "output_type": "display_data"
    }
   ],
   "source": [
    "import numpy as np\n",
    "import matplotlib.pyplot as plt\n",
    "# ======================================================\n",
    "class ChessBoard:\n",
    "    white = [1,1,1]\n",
    "    blue = [0,0,1]\n",
    "    red = [1,0,0]\n",
    "# ======================================================\n",
    "    def __init__(self):\n",
    "        self.grid = np.zeros([8,8,3])\n",
    "        \n",
    "        \"\"\"\n",
    "        add the white color to the blacked chessboard (black by default)\n",
    "        \"\"\"\n",
    "        for i in range(8):\n",
    "            for j in range(8):\n",
    "                if (i%2==0 and j%2==0) or (i%2==1 and j%2==1):\n",
    "                    self.grid[i,j] = ChessBoard.white\n",
    "# ======================================================\n",
    "    def add_red(self, red_x, red_y):\n",
    "        self.grid[red_x,red_y] = ChessBoard.red \n",
    "# ======================================================\n",
    "    def add_blue(self, blue_x, blue_y):\n",
    "        self.grid[blue_x,blue_y] = ChessBoard.blue \n",
    "# ======================================================\n",
    "    def render(self):\n",
    "        plt.imshow(self.grid)\n",
    "# ======================================================\n",
    "    def is_under_attack(self,red_x,red_y,blue_x,blue_y):\n",
    "        if red_x == blue_x: \n",
    "            return True\n",
    "        elif red_y == blue_y:\n",
    "            return True\n",
    "        elif abs(red_x - red_y) == abs(blue_x - blue_y):\n",
    "            return True\n",
    "        else: \n",
    "            return False\n",
    "# ======================================================\n",
    "board = ChessBoard()\n",
    "board.add_red(1,5)\n",
    "board.add_blue(4,5)\n",
    "board.render()\n",
    "# ======================================================"
   ]
  },
  {
   "cell_type": "code",
   "execution_count": 100,
   "metadata": {},
   "outputs": [
    {
     "name": "stdout",
     "output_type": "stream",
     "text": [
      "########### All Tests Passed ###########\n"
     ]
    }
   ],
   "source": [
    "############### Tests #################\n",
    "### check if same row:\n",
    "assert board.is_under_attack(1,5,4,5)==True \n",
    "### check if same column:\n",
    "assert board.is_under_attack(1,5,7,5)==True\n",
    "### check if same diagonal:\n",
    "assert board.is_under_attack(1,5,6,2)==True\n",
    "### check if not under attack:\n",
    "assert board.is_under_attack(4,5,3,1)==False\n",
    "print('########### All Tests Passed ###########')\n"
   ]
  },
  {
   "cell_type": "code",
   "execution_count": null,
   "metadata": {},
   "outputs": [],
   "source": []
  },
  {
   "cell_type": "code",
   "execution_count": null,
   "metadata": {},
   "outputs": [],
   "source": []
  },
  {
   "cell_type": "code",
   "execution_count": null,
   "metadata": {},
   "outputs": [],
   "source": []
  }
 ],
 "metadata": {
  "kernelspec": {
   "display_name": "Python 3",
   "language": "python",
   "name": "python3"
  },
  "language_info": {
   "codemirror_mode": {
    "name": "ipython",
    "version": 3
   },
   "file_extension": ".py",
   "mimetype": "text/x-python",
   "name": "python",
   "nbconvert_exporter": "python",
   "pygments_lexer": "ipython3",
   "version": "3.9.0"
  }
 },
 "nbformat": 4,
 "nbformat_minor": 4
}
